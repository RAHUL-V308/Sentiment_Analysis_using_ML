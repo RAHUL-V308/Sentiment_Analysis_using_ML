{
  "nbformat": 4,
  "nbformat_minor": 0,
  "metadata": {
    "colab": {
      "provenance": []
    },
    "kernelspec": {
      "name": "python3",
      "display_name": "Python 3"
    },
    "language_info": {
      "name": "python"
    }
  },
  "cells": [
    {
      "cell_type": "code",
      "execution_count": null,
      "metadata": {
        "colab": {
          "base_uri": "https://localhost:8080/"
        },
        "id": "ot7qZAa9Cnqq",
        "outputId": "f58b9784-0910-4903-ea9f-bb19e607dea4"
      },
      "outputs": [
        {
          "output_type": "stream",
          "name": "stderr",
          "text": [
            "[nltk_data] Downloading package stopwords to /root/nltk_data...\n",
            "[nltk_data]   Package stopwords is already up-to-date!\n"
          ]
        },
        {
          "output_type": "stream",
          "name": "stdout",
          "text": [
            "Accuracy: 92.59%\n",
            "Classification Report:\n",
            "              precision    recall  f1-score   support\n",
            "\n",
            "           0       0.88      1.00      0.94        46\n",
            "           1       1.00      0.83      0.91        35\n",
            "\n",
            "    accuracy                           0.93        81\n",
            "   macro avg       0.94      0.91      0.92        81\n",
            "weighted avg       0.93      0.93      0.92        81\n",
            "\n",
            "Confusion Matrix:\n",
            "[[46  0]\n",
            " [ 6 29]]\n",
            "Enter a review (or type 'exit' to quit): I love you.\n",
            "Review: \"I love you.\" - Sentiment: Positive\n",
            "Enter a review (or type 'exit' to quit): I did not like you.\n",
            "Review: \"I did not like you.\" - Sentiment: Negative\n"
          ]
        }
      ],
      "source": [
        "import pandas as pd\n",
        "import nltk\n",
        "from sklearn.feature_extraction.text import CountVectorizer\n",
        "from sklearn.model_selection import train_test_split\n",
        "from sklearn.naive_bayes import MultinomialNB\n",
        "from sklearn.metrics import accuracy_score, classification_report, confusion_matrix\n",
        "import joblib\n",
        "\n",
        "nltk.download('stopwords')\n",
        "\n",
        "data = pd.read_csv('/content/sentiment_dataset.csv')\n",
        "\n",
        "def preprocess_text(text):\n",
        "    text = text.lower()\n",
        "    return text\n",
        "\n",
        "data['cleaned_text'] = data['text'].apply(preprocess_text)\n",
        "\n",
        "vectorizer = CountVectorizer()\n",
        "X = vectorizer.fit_transform(data['cleaned_text'])\n",
        "y = data['sentiment']\n",
        "\n",
        "X_train, X_test, y_train, y_test = train_test_split(X, y, test_size=0.2, random_state=42)\n",
        "\n",
        "model = MultinomialNB()\n",
        "model.fit(X_train, y_train)\n",
        "\n",
        "y_pred = model.predict(X_test)\n",
        "\n",
        "accuracy = accuracy_score(y_test, y_pred)\n",
        "print(f'Accuracy: {accuracy * 100:.2f}%')\n",
        "print('Classification Report:')\n",
        "print(classification_report(y_test, y_pred))\n",
        "print('Confusion Matrix:')\n",
        "print(confusion_matrix(y_test, y_pred))\n",
        "\n",
        "joblib.dump(model, 'sentiment_model.pkl')\n",
        "\n",
        "def predict_sentiment(review):\n",
        "    cleaned_review = preprocess_text(review)\n",
        "    vectorized_review = vectorizer.transform([cleaned_review])\n",
        "    prediction = model.predict(vectorized_review)\n",
        "    return 'Positive' if prediction[0] == 1 else 'Negative'\n",
        "\n",
        "while True:\n",
        "    new_review = input(\"Enter a review (or type 'exit' to quit): \")\n",
        "    if new_review.lower() == 'exit':\n",
        "        break\n",
        "    sentiment = predict_sentiment(new_review)\n",
        "    print(f'Review: \\\"{new_review}\\\" - Sentiment: {sentiment}')\n"
      ]
    }
  ]
}